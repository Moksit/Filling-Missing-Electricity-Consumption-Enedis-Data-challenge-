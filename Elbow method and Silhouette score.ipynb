{
 "cells": [
  {
   "cell_type": "markdown",
   "id": "843b6f1a-6875-4204-9b0a-37b0985f406d",
   "metadata": {},
   "source": [
    "We use the Faiss (Facebook AI Similarity Search) library to determine the best number of clusters. "
   ]
  },
  {
   "cell_type": "code",
   "execution_count": null,
   "id": "dd786c89-51da-4585-97c2-03273d788098",
   "metadata": {},
   "outputs": [],
   "source": [
    "import numpy as np\n",
    "import pandas as pd\n",
    "import matplotlib.pyplot as plt\n",
    "from sklearn.preprocessing import StandardScaler\n",
    "from sklearn.cluster import KMeans\n",
    "from sklearn.metrics import silhouette_score\n",
    "import faiss"
   ]
  },
  {
   "cell_type": "code",
   "execution_count": null,
   "id": "535befb1-3f45-4113-b73f-14755464f2df",
   "metadata": {},
   "outputs": [],
   "source": [
    "# Load the data from the uploaded files\n",
    "train = pd.read_csv('merged_train.csv')\n",
    "test = pd.read_csv('test_data.csv')"
   ]
  },
  {
   "cell_type": "code",
   "execution_count": null,
   "id": "63ceba1d-777f-4658-8e29-760f6aee822c",
   "metadata": {},
   "outputs": [],
   "source": [
    "#horo = train['Horodate'] # We will need the index later for the submission file\n",
    "train=train.drop(columns=['Horodate'])\n",
    "test=test.drop(columns=['Horodate'])"
   ]
  },
  {
   "cell_type": "code",
   "execution_count": null,
   "id": "1a854797-60b3-483a-91b4-50e1e110e8a5",
   "metadata": {},
   "outputs": [],
   "source": [
    "# Transpose to cluster consumers instead of timestamps (if needed)\n",
    "df = train.T\n",
    "# Now rows = consumers, columns = time-series features\n",
    "\n",
    "# Normalize data (StandardScaler ensures zero mean and unit variance)\n",
    "scaler = StandardScaler()\n",
    "X = scaler.fit_transform(df.values.astype(np.float32))"
   ]
  },
  {
   "cell_type": "code",
   "execution_count": null,
   "id": "ff61d396-c4ee-4406-8b74-514ef8c0f21b",
   "metadata": {},
   "outputs": [],
   "source": [
    "def compute_elbow(X, k_range):\n",
    "    \"\"\"Compute inertia for Elbow Method using FAISS (GPU) or sklearn (CPU).\"\"\"\n",
    "    inertia_values = []\n",
    "    \n",
    "    for k in k_range:\n",
    "        try:\n",
    "            # FAISS GPU-based KMeans\n",
    "            kmeans = faiss.Kmeans(d=X.shape[1], k=k, gpu=True)\n",
    "            kmeans.train(X)\n",
    "            D, _ = kmeans.index.search(X, 1)  # Compute distances\n",
    "            inertia = np.sum(D)\n",
    "        except:\n",
    "            # Fallback to scikit-learn CPU KMeans\n",
    "            kmeans = KMeans(n_clusters=k, random_state=42, n_init=10)\n",
    "            kmeans.fit(X)\n",
    "            inertia = kmeans.inertia_\n",
    "        \n",
    "        inertia_values.append(inertia)\n",
    "\n",
    "    return inertia_values\n",
    "\n",
    "def compute_silhouette(X, k_range):\n",
    "    \"\"\"Compute silhouette scores for different k values.\"\"\"\n",
    "    silhouette_scores = []\n",
    "    \n",
    "    for k in k_range:\n",
    "        if k == 1:\n",
    "            silhouette_scores.append(-1)  # Undefined for k=1\n",
    "            continue\n",
    "        \n",
    "        try:\n",
    "            kmeans = KMeans(n_clusters=k, random_state=42, n_init=10)\n",
    "            labels = kmeans.fit_predict(X)\n",
    "        except:\n",
    "            labels = np.zeros(X.shape[0])  # Default labels if clustering fails\n",
    "            \n",
    "        score = silhouette_score(X, labels)\n",
    "        silhouette_scores.append(score)\n",
    "\n",
    "    return silhouette_scores"
   ]
  },
  {
   "cell_type": "code",
   "execution_count": null,
   "id": "d05acd60-95b8-4a6a-a17a-28dac98114b6",
   "metadata": {},
   "outputs": [],
   "source": [
    "# Define range of k values, we take (2, 50) as an example\n",
    "k_values = range(2, 50)\n",
    "\n",
    "# Compute Elbow Method\n",
    "inertia_values = compute_elbow(X, k_values)\n",
    "\n",
    "# Compute Silhouette Scores\n",
    "silhouette_scores = compute_silhouette(X, k_values)\n",
    "\n",
    "# Plot results\n",
    "fig, ax = plt.subplots(1, 2, figsize=(12, 5))\n",
    "\n",
    "# Elbow Method Plot\n",
    "ax[0].plot(k_values, inertia_values, marker='o', linestyle='-')\n",
    "ax[0].set_title('Elbow Method for Electricity Consumers')\n",
    "ax[0].set_xlabel('Number of Clusters (k)')\n",
    "ax[0].set_ylabel('Inertia')\n",
    "ax[0].grid()\n",
    "\n",
    "# Silhouette Score Plot\n",
    "ax[1].plot(k_values, silhouette_scores, marker='o', linestyle='-')\n",
    "ax[1].set_title('Silhouette Analysis for Electricity Consumers')\n",
    "ax[1].set_xlabel('Number of Clusters (k)')\n",
    "ax[1].set_ylabel('Silhouette Score')\n",
    "ax[1].grid()\n",
    "\n",
    "plt.show()"
   ]
  }
 ],
 "metadata": {
  "kernelspec": {
   "display_name": "Python 3 (ipykernel)",
   "language": "python",
   "name": "python3"
  },
  "language_info": {
   "codemirror_mode": {
    "name": "ipython",
    "version": 3
   },
   "file_extension": ".py",
   "mimetype": "text/x-python",
   "name": "python",
   "nbconvert_exporter": "python",
   "pygments_lexer": "ipython3",
   "version": "3.12.2"
  }
 },
 "nbformat": 4,
 "nbformat_minor": 5
}
