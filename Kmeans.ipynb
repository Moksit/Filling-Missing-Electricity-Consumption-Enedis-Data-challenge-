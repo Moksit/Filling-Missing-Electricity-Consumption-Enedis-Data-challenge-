{
 "cells": [
  {
   "cell_type": "markdown",
   "id": "a96617ed-7f7c-4cdd-820b-b5df4e54a156",
   "metadata": {},
   "source": [
    "Filling the missing values using Kmeans clustering"
   ]
  },
  {
   "cell_type": "code",
   "execution_count": 1,
   "id": "f3ce2eb2-7219-4c34-9b2c-d7574b90ae75",
   "metadata": {},
   "outputs": [],
   "source": [
    "import pandas as pd\n",
    "import numpy as np\n",
    "from sklearn.preprocessing import StandardScaler\n",
    "from sklearn.cluster import MiniBatchKMeans\n",
    "from scipy.spatial.distance import cityblock"
   ]
  },
  {
   "cell_type": "code",
   "execution_count": 2,
   "id": "476100eb-3e52-49d4-a5dc-756125e2fc93",
   "metadata": {},
   "outputs": [],
   "source": [
    "# Load the data\n",
    "train = pd.read_csv('merged_train.csv')\n",
    "test = pd.read_csv('test_data.csv')\n",
    "\n",
    "horo = train['Horodate'] #we will need the index later\n",
    "train=train.drop(columns=['Horodate'])\n",
    "test=test.drop(columns=['Horodate'])"
   ]
  },
  {
   "cell_type": "code",
   "execution_count": 3,
   "id": "5e721908-7375-4160-8211-71307bf2b82e",
   "metadata": {},
   "outputs": [],
   "source": [
    "# Step 1: Standardize the fully observed users (important for clustering)\n",
    "scaler = StandardScaler()\n",
    "train_scaled = scaler.fit_transform(train.T)  # Transpose: shape (users × timestamps)\n"
   ]
  },
  {
   "cell_type": "code",
   "execution_count": 4,
   "id": "c6ddafdd-8813-45b8-904c-a4fc9537943a",
   "metadata": {},
   "outputs": [],
   "source": [
    "# Remark: we use the L2 distance to compute the clusters\n",
    "# Step 2: Apply MiniBatchKMeans\n",
    "num_clusters = 300 # Adjust based on data structure\n",
    "kmeans = MiniBatchKMeans(n_clusters=num_clusters, random_state=42, n_init=10, batch_size=1000)\n",
    "clusters = kmeans.fit_predict(train_scaled)"
   ]
  },
  {
   "cell_type": "code",
   "execution_count": 5,
   "id": "20510770-01fb-4a85-9582-ca0d1f81cf9c",
   "metadata": {},
   "outputs": [],
   "source": [
    "# Step 3: Compute cluster-wise mean consumption\n",
    "cluster_means = {}\n",
    "for i in range(num_clusters):\n",
    "    cluster_means[i] = train.iloc[:, clusters == i].mean(axis=1)  # Mean per timestamp"
   ]
  },
  {
   "cell_type": "code",
   "execution_count": 6,
   "id": "831e30ea-39d1-4baf-9dd2-96bd376f1353",
   "metadata": {},
   "outputs": [],
   "source": [
    "# Step 4: Assign missing users to the nearest cluster using L1 distance\n",
    "test_int = test.copy()\n",
    "test_int.interpolate(method='linear', axis=0, inplace=True)\n",
    "test_int.fillna(test_int.mean(), inplace=True)\n",
    "\n",
    "test_scaled = scaler.transform(test_int.T)\n",
    "\n",
    "# Assign clusters based on Manhattan (L1) distance\n",
    "missing_clusters = []\n",
    "for sample in test_scaled:\n",
    "    distances = [cityblock(sample, center) for center in kmeans.cluster_centers_]\n",
    "    missing_clusters.append(np.argmin(distances))\n",
    "missing_clusters = np.array(missing_clusters)"
   ]
  },
  {
   "cell_type": "code",
   "execution_count": 7,
   "id": "536ec5cd-c076-4ca0-8244-22370eb65353",
   "metadata": {},
   "outputs": [],
   "source": [
    "# Step 5: Fill missing values using cluster means\n",
    "for i, cluster_id in enumerate(missing_clusters):\n",
    "    test.iloc[:, i] = test.iloc[:, i].fillna(cluster_means[cluster_id])"
   ]
  },
  {
   "cell_type": "code",
   "execution_count": 8,
   "id": "376fb0e7-0f26-4441-8557-5c765b816194",
   "metadata": {},
   "outputs": [],
   "source": [
    "test.index = horo\n",
    "test.to_csv(\"kmeans_mean_fill100.csv\", index=True)"
   ]
  }
 ],
 "metadata": {
  "kernelspec": {
   "display_name": "Python 3 (ipykernel)",
   "language": "python",
   "name": "python3"
  },
  "language_info": {
   "codemirror_mode": {
    "name": "ipython",
    "version": 3
   },
   "file_extension": ".py",
   "mimetype": "text/x-python",
   "name": "python",
   "nbconvert_exporter": "python",
   "pygments_lexer": "ipython3",
   "version": "3.12.2"
  }
 },
 "nbformat": 4,
 "nbformat_minor": 5
}
