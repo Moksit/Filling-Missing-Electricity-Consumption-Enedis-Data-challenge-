{
 "cells": [
  {
   "cell_type": "markdown",
   "id": "79b36a25-caaf-4320-9381-a1f3faa1e698",
   "metadata": {},
   "source": [
    "### Analizing and cleaning the data"
   ]
  },
  {
   "cell_type": "code",
   "execution_count": null,
   "id": "ac28fb2b-1d51-4181-8798-f6440724d48b",
   "metadata": {},
   "outputs": [],
   "source": [
    "import matplotlib.pyplot as plt\n",
    "import pandas as pd\n",
    "import numpy as np"
   ]
  },
  {
   "cell_type": "code",
   "execution_count": null,
   "id": "78d70eb5-7726-46e0-b341-e00f93e642ed",
   "metadata": {},
   "outputs": [],
   "source": [
    "# Load the data from the uploaded files\n",
    "X_train = pd.read_csv('X_train_78VdSWL.csv')\n",
    "X_test = pd.read_csv('X_test_XKVc4no.csv')\n",
    "y_train = pd.read_csv('y_train_u0UkKEh.csv')"
   ]
  },
  {
   "cell_type": "code",
   "execution_count": null,
   "id": "1381666b-51f8-47f9-bfba-69a00cc77aca",
   "metadata": {},
   "outputs": [],
   "source": [
    "# Sizes of the data files\n",
    "X_train.shape, X_test.shape, y_train.shape"
   ]
  },
  {
   "cell_type": "code",
   "execution_count": null,
   "id": "d43a4fa7-43f8-4d21-86fc-5260c8f80d06",
   "metadata": {},
   "outputs": [],
   "source": [
    "# Show the data\n",
    "display(X_train.head())\n",
    "display(X_test.head())\n",
    "display(y_train.head())"
   ]
  },
  {
   "cell_type": "code",
   "execution_count": null,
   "id": "a7a42429-8fc7-44f9-b7ec-3ca1359c6c9d",
   "metadata": {},
   "outputs": [],
   "source": [
    "# Fill the missing values in X_train by those of y_train\n",
    "X_train.fillna(y_train, inplace=True)"
   ]
  },
  {
   "cell_type": "code",
   "execution_count": null,
   "id": "79b615ef-b461-474b-888d-0da5dcbea807",
   "metadata": {
    "scrolled": true
   },
   "outputs": [],
   "source": [
    "# Find columns with missing values\n",
    "missing_cols = X_train.columns[X_train.isnull().sum() > 0]\n",
    "missing_cols"
   ]
  },
  {
   "cell_type": "code",
   "execution_count": null,
   "id": "342a5a62-5b4c-492a-9e13-7d5ef72cf399",
   "metadata": {},
   "outputs": [],
   "source": [
    "# Remove ID= '7986541023', 'holed_192' from the data\n",
    "X_train = X_train.drop(columns=[\"7986541023\", \"holed_192\"])  "
   ]
  },
  {
   "cell_type": "markdown",
   "id": "e30a0043-42e7-4d4c-8ca7-5cbbe2f0a495",
   "metadata": {},
   "source": [
    "The first columns of the X_test can be considered as training data as well, the test data are the last 1000 columns of X_test"
   ]
  },
  {
   "cell_type": "code",
   "execution_count": null,
   "id": "9de5ed25-fe68-4b26-83eb-6e1491364865",
   "metadata": {},
   "outputs": [],
   "source": [
    "# Change the index \n",
    "X_test.set_index(X_test.columns[0], inplace=True)\n",
    "X_train.set_index(X_train.columns[0], inplace=True)\n",
    "\n",
    "# Split X_test into two DataFrames\n",
    "test_data = X_test.iloc[:, -1000:]  # Last 1000 columns\n",
    "X_test_training = X_test.iloc[:, :-1000]  # The rest of the columns"
   ]
  },
  {
   "cell_type": "code",
   "execution_count": null,
   "id": "f039096c-2075-4dd1-b69d-314399cd9381",
   "metadata": {
    "scrolled": true
   },
   "outputs": [],
   "source": [
    "# Show the new data\n",
    "display(X_train.head())\n",
    "display(X_test_training.head())\n",
    "display(test_data.head())"
   ]
  },
  {
   "cell_type": "code",
   "execution_count": null,
   "id": "938597b4-cd5d-42e8-b35e-fbbefb2a752c",
   "metadata": {},
   "outputs": [],
   "source": [
    "# Find columns with missing values\n",
    "missing_cols = X_test_training.columns[X_test_training.isnull().sum() > 0]\n",
    "missing_cols"
   ]
  },
  {
   "cell_type": "code",
   "execution_count": null,
   "id": "fbbea765-f482-4b4f-9107-eceffebd41d3",
   "metadata": {},
   "outputs": [],
   "source": [
    "# Remove the columns with missing values\n",
    "X_test_training = X_test_training.drop(columns=['1250968743', '1753428906', '7132659048', '7813042569'])  "
   ]
  },
  {
   "cell_type": "markdown",
   "id": "5dc4cd9a-5160-4d6c-8111-b826393f5721",
   "metadata": {},
   "source": [
    "Encode the holed_ columns of X_train before merging it with X_test_training"
   ]
  },
  {
   "cell_type": "code",
   "execution_count": null,
   "id": "22054481-d557-47ce-8847-3083eca429ec",
   "metadata": {},
   "outputs": [],
   "source": [
    "# Get the last 999 column names\n",
    "last_999_cols = X_train.columns[-999:]\n",
    "\n",
    "# Create a dictionary mapping columns to object labels (2001-2999)\n",
    "column_mapping = {col: str(2001 + i) for i, col in enumerate(last_999_cols)}\n",
    "\n",
    "# Rename the columns in the DataFrame\n",
    "X_train = X_train.rename(columns=column_mapping)"
   ]
  },
  {
   "cell_type": "markdown",
   "id": "ef758a8e-1059-4e88-9158-03a418ae6ee9",
   "metadata": {},
   "source": [
    "Before merging X_train and X_test_training we would like to check that there is no commun ID between them"
   ]
  },
  {
   "cell_type": "code",
   "execution_count": null,
   "id": "d08b8d29-d0f7-47e6-8e26-08597931769b",
   "metadata": {},
   "outputs": [],
   "source": [
    "# Analyse the ID's\n",
    "# Extract column names\n",
    "train_col = X_train.columns.tolist()  # Get column names as a list\n",
    "test_col = X_test_training.columns.tolist()  # Get column names as a list"
   ]
  },
  {
   "cell_type": "code",
   "execution_count": null,
   "id": "aa474f0b-4aaa-46e5-8904-62437354bab9",
   "metadata": {},
   "outputs": [],
   "source": [
    "# Check if they have common elements\n",
    "if set(train_col).isdisjoint(set(test_col)):  \n",
    "    print(\"No common elements!\")  \n",
    "else:\n",
    "    print(\"They have common elements!\")  "
   ]
  },
  {
   "cell_type": "markdown",
   "id": "b681445b-5d15-439f-8c0a-4a5bc8b952fb",
   "metadata": {},
   "source": [
    "Merge all the training data "
   ]
  },
  {
   "cell_type": "code",
   "execution_count": null,
   "id": "bf858ae8-0474-46fc-8807-1534af0f38f5",
   "metadata": {},
   "outputs": [],
   "source": [
    "# Merge them on the index (horizontally)\n",
    "merged_df = pd.concat([X_train, X_test_training], axis=1)\n",
    "\n",
    "# Save the merged file of the training data\n",
    "merged_df.to_csv(\"merged_train.csv\", index=True)\n",
    "\n",
    "# Save the test data\n",
    "test_data.to_csv(\"test_data.csv\", index=True)"
   ]
  },
  {
   "cell_type": "code",
   "execution_count": null,
   "id": "d944fbd1-ac64-4d10-90e6-7b8c26d0b268",
   "metadata": {},
   "outputs": [],
   "source": [
    "# Display the new data\n",
    "display(merged_df.head())\n",
    "display(test_data.head())"
   ]
  }
 ],
 "metadata": {
  "kernelspec": {
   "display_name": "Python 3 (ipykernel)",
   "language": "python",
   "name": "python3"
  },
  "language_info": {
   "codemirror_mode": {
    "name": "ipython",
    "version": 3
   },
   "file_extension": ".py",
   "mimetype": "text/x-python",
   "name": "python",
   "nbconvert_exporter": "python",
   "pygments_lexer": "ipython3",
   "version": "3.12.2"
  }
 },
 "nbformat": 4,
 "nbformat_minor": 5
}
